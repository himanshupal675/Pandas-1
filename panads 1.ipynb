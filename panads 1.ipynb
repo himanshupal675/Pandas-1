{
 "cells": [
  {
   "cell_type": "markdown",
   "id": "db294c15-44f3-4c25-a7b5-96ce76e7dac9",
   "metadata": {},
   "source": [
    "## Q1. Create a Pandas Series that contains the following data: 4, 8, 15, 16, 23, and 42. Then, print the series."
   ]
  },
  {
   "cell_type": "code",
   "execution_count": 2,
   "id": "07e6f00d-faac-4cc5-a1fe-5be15ed9427e",
   "metadata": {},
   "outputs": [
    {
     "name": "stdout",
     "output_type": "stream",
     "text": [
      "0     4\n",
      "1     8\n",
      "2    15\n",
      "3    16\n",
      "4    23\n",
      "5    42\n",
      "dtype: int64\n"
     ]
    }
   ],
   "source": [
    "import pandas as pd \n",
    "data=[4,8,15,16,23,42]\n",
    "series=pd.Series(data)\n",
    "print(series)"
   ]
  },
  {
   "cell_type": "markdown",
   "id": "ddf9a4f3-af48-4b89-9145-bc84e5fa9e8a",
   "metadata": {},
   "source": [
    "## Q2. Create a variable of list type containing 10 elements in it, and apply pandas.Series function on the variable print it."
   ]
  },
  {
   "cell_type": "code",
   "execution_count": 4,
   "id": "ac0fe4e0-e12f-4f8a-b84a-cd615be94da7",
   "metadata": {},
   "outputs": [
    {
     "name": "stdout",
     "output_type": "stream",
     "text": [
      "[1, 2, 3, 4, 5, 6, 7, 8, 9, 10]\n"
     ]
    }
   ],
   "source": [
    "import pandas as pd \n",
    "my_list=[1,2,3,4,5,6,7,8,9,10]\n",
    "series=pd.Series(my_list)\n",
    "print(my_list)"
   ]
  },
  {
   "cell_type": "markdown",
   "id": "aa061ea3-8e15-468c-9b62-005d40333097",
   "metadata": {},
   "source": [
    "## Q3. Create a Pandas DataFrame that contains the following data:"
   ]
  },
  {
   "cell_type": "code",
   "execution_count": 7,
   "id": "5da033a8-97f1-4334-b25d-0692902262ea",
   "metadata": {},
   "outputs": [
    {
     "name": "stdout",
     "output_type": "stream",
     "text": [
      "     Name  Age  Gender\n",
      "0   Alice   25  Female\n",
      "1     Bob   30    Male\n",
      "2  Claire   27  Female\n"
     ]
    }
   ],
   "source": [
    "import pandas as pd\n",
    "data={'Name':['Alice','Bob','Claire'],\n",
    "      'Age': [25,30,27],\n",
    "      'Gender':['Female','Male','Female']\n",
    "     }\n",
    "df=pd.DataFrame(data)\n",
    "print(df)"
   ]
  },
  {
   "cell_type": "markdown",
   "id": "3989a434-d65b-4a68-8b43-3830feedb28f",
   "metadata": {},
   "source": [
    "## Q4. What is ‘DataFrame’ in pandas and how is it different from pandas.series? Explain with an example."
   ]
  },
  {
   "cell_type": "markdown",
   "id": "2c9b293a-219b-4ff0-a8b3-7d40ac0f643e",
   "metadata": {},
   "source": [
    "In Pandas, a **DataFrame** is a two-dimensional labeled data structure that can store data of different types (such as numeric, string, boolean, etc.) in tabular form. It is similar to a spreadsheet or a SQL table, where you have rows and columns, and each column can have a different data type. DataFrames are one of the most commonly used data structures in Pandas and are suitable for representing structured and heterogeneous data.\n",
    "\n",
    "On the other hand, a **Series** is a one-dimensional labeled array capable of holding data of a single data type. It's like a single column of data in a DataFrame. Series have labels (indices) that allow for quick and easy data retrieval. A DataFrame can be thought of as a collection of Series objects, where each Series represents a column.\n",
    "\n"
   ]
  },
  {
   "cell_type": "code",
   "execution_count": 8,
   "id": "9858013b-2f98-4cc0-b2a7-79e9d7b5ad71",
   "metadata": {},
   "outputs": [
    {
     "name": "stdout",
     "output_type": "stream",
     "text": [
      "Series:\n",
      "0    10\n",
      "1    20\n",
      "2    30\n",
      "3    40\n",
      "4    50\n",
      "dtype: int64\n",
      "\n",
      "\n",
      "DataFrame:\n",
      "      Name  Age  Salary\n",
      "0    Alice   25   60000\n",
      "1      Bob   32   80000\n",
      "2  Charlie   28   70000\n",
      "3    David   45   90000\n",
      "4      Eve   29   75000\n"
     ]
    }
   ],
   "source": [
    "import pandas as pd\n",
    "\n",
    "# Creating a Series\n",
    "series_data = pd.Series([10, 20, 30, 40, 50])\n",
    "print(\"Series:\")\n",
    "print(series_data)\n",
    "print(\"\\n\")\n",
    "\n",
    "# Creating a DataFrame\n",
    "data = {\n",
    "    'Name': ['Alice', 'Bob', 'Charlie', 'David', 'Eve'],\n",
    "    'Age': [25, 32, 28, 45, 29],\n",
    "    'Salary': [60000, 80000, 70000, 90000, 75000]\n",
    "}\n",
    "\n",
    "df = pd.DataFrame(data)\n",
    "print(\"DataFrame:\")\n",
    "print(df)\n",
    "\n"
   ]
  },
  {
   "cell_type": "markdown",
   "id": "53651c0e-dcc2-4c33-890c-7a82d70e7145",
   "metadata": {},
   "source": [
    "## Q5. What are some common functions you can use to manipulate data in a Pandas DataFrame? Can you give an example of when you might use one of these functions?"
   ]
  },
  {
   "cell_type": "markdown",
   "id": "62e1b153-9e3a-4a65-84a9-10de4d3526d9",
   "metadata": {},
   "source": [
    "Pandas provides a wide range of functions to manipulate data in a DataFrame. Here are some common functions along with examples of when you might use them:\n",
    "\n",
    "1. **`head()` and `tail()`**: These functions allow you to view the first few rows (head) or last few rows (tail) of a DataFrame. Useful for quickly inspecting the data.\n",
    "\n",
    "```python\n",
    "import pandas as pd\n",
    "\n",
    "data = {\n",
    "    'Name': ['Alice', 'Bob', 'Charlie', 'David', 'Eve'],\n",
    "    'Age': [25, 32, 28, 45, 29],\n",
    "    'Salary': [60000, 80000, 70000, 90000, 75000]\n",
    "}\n",
    "\n",
    "df = pd.DataFrame(data)\n",
    "\n",
    "print(df.head(2))  # View the first 2 rows\n",
    "print(df.tail(3))  # View the last 3 rows\n",
    "```\n",
    "\n",
    "2. **`info()`**: Provides information about the DataFrame, including the data types of columns and memory usage.\n",
    "\n",
    "```python\n",
    "print(df.info())\n",
    "```\n",
    "\n",
    "3. **`describe()`**: Generates summary statistics of numerical columns, like mean, standard deviation, minimum, maximum, etc.\n",
    "\n",
    "```python\n",
    "print(df.describe())\n",
    "```\n",
    "\n",
    "4. **`sort_values()`**: Sorts the DataFrame by one or more columns.\n",
    "\n",
    "```python\n",
    "sorted_df = df.sort_values(by='Age')  # Sorting by the 'Age' column\n",
    "print(sorted_df)\n",
    "```\n",
    "\n",
    "5. **`groupby()`**: Allows you to group data based on one or more columns and perform aggregate functions on the groups.\n",
    "\n",
    "```python\n",
    "grouped = df.groupby('Age')['Salary'].mean()  # Average salary for each age group\n",
    "print(grouped)\n",
    "```\n",
    "\n",
    "6. **`drop()`**: Used to drop specific rows or columns from the DataFrame.\n",
    "\n",
    "```python\n",
    "modified_df = df.drop(columns='Salary')  # Remove the 'Salary' column\n",
    "print(modified_df)\n",
    "```\n",
    "\n",
    "7. **`fillna()`**: Fills missing values in the DataFrame with specified values.\n",
    "\n",
    "```python\n",
    "filled_df = df.fillna(0)  # Fill NaN values with 0\n",
    "print(filled_df)\n",
    "```\n",
    "\n",
    "8. **`apply()`**: Applies a function to each element, row, or column of the DataFrame.\n",
    "\n",
    "```python\n",
    "def double_salary(salary):\n",
    "    return salary * 2\n",
    "\n",
    "df['Double_Salary'] = df['Salary'].apply(double_salary)\n",
    "print(df)\n",
    "```\n",
    "\n",
    "These are just a few examples of the many functions available in Pandas for data manipulation. Depending on your specific data analysis needs, you can choose the appropriate function to perform the desired operations on your DataFrame."
   ]
  },
  {
   "cell_type": "markdown",
   "id": "784f854b-2940-44a5-85fa-49300d4c8bde",
   "metadata": {},
   "source": [
    "## Q6. Which of the following is mutable in nature Series, DataFrame, Panel?"
   ]
  },
  {
   "cell_type": "markdown",
   "id": "d4ce86da-6423-432c-8d9b-790e4f4735d4",
   "metadata": {},
   "source": [
    "Among the options given (Series, DataFrame, Panel), both **Series** and **DataFrame** are mutable in nature, while **Panel** is not.\n",
    "\n",
    "1. **Series**: A Series is mutable, meaning you can change the values of individual elements after the series is created.\n",
    "\n",
    "2. **DataFrame**: A DataFrame is also mutable. You can modify column values, add or remove columns, and perform various operations that change the data within the DataFrame.\n",
    "\n",
    "3. **Panel**: However, Panels have been deprecated in recent versions of Pandas (as of my knowledge cutoff in September 2021) and are no longer recommended for use. Multi-dimensional data is typically handled using hierarchical indexing within DataFrames or with other data structures.\n",
    "\n",
    "It's worth noting that while Series and DataFrames are mutable, it's a good practice to be cautious while modifying data in-place, especially when dealing with large datasets, as unintended changes can lead to data integrity issues."
   ]
  },
  {
   "cell_type": "markdown",
   "id": "c969467c-e1f9-467d-8965-0127918387d6",
   "metadata": {},
   "source": [
    "## Q7. Create a DataFrame using multiple Series. Explain with an example."
   ]
  },
  {
   "cell_type": "code",
   "execution_count": 9,
   "id": "357434bf-304b-47f1-9a61-7d3972e2aa59",
   "metadata": {},
   "outputs": [
    {
     "name": "stdout",
     "output_type": "stream",
     "text": [
      "      Name  Age  Salary\n",
      "0    Alice   25   60000\n",
      "1      Bob   32   80000\n",
      "2  Charlie   28   70000\n",
      "3    David   45   90000\n",
      "4      Eve   29   75000\n"
     ]
    }
   ],
   "source": [
    "import pandas as pd\n",
    "\n",
    "# Create individual Series\n",
    "names = pd.Series(['Alice', 'Bob', 'Charlie', 'David', 'Eve'])\n",
    "ages = pd.Series([25, 32, 28, 45, 29])\n",
    "salaries = pd.Series([60000, 80000, 70000, 90000, 75000])\n",
    "\n",
    "# Combine Series into a DataFrame\n",
    "data = {'Name': names, 'Age': ages, 'Salary': salaries}\n",
    "df = pd.DataFrame(data)\n",
    "\n",
    "print(df)\n"
   ]
  },
  {
   "cell_type": "code",
   "execution_count": null,
   "id": "79e9a9e1-2bde-4f60-9996-17edcdd6ddb4",
   "metadata": {},
   "outputs": [],
   "source": []
  }
 ],
 "metadata": {
  "kernelspec": {
   "display_name": "Python 3 (ipykernel)",
   "language": "python",
   "name": "python3"
  },
  "language_info": {
   "codemirror_mode": {
    "name": "ipython",
    "version": 3
   },
   "file_extension": ".py",
   "mimetype": "text/x-python",
   "name": "python",
   "nbconvert_exporter": "python",
   "pygments_lexer": "ipython3",
   "version": "3.10.8"
  }
 },
 "nbformat": 4,
 "nbformat_minor": 5
}
